{
 "cells": [
  {
   "cell_type": "markdown",
   "id": "eb038945",
   "metadata": {},
   "source": [
    "# Importing Libraries"
   ]
  },
  {
   "cell_type": "code",
   "execution_count": 36,
   "id": "52b7580a",
   "metadata": {},
   "outputs": [],
   "source": [
    "import pandas as pd\n",
    "import numpy as np\n",
    "import joblib\n",
    "from sklearn.model_selection import train_test_split\n",
    "from sklearn.linear_model import LinearRegression\n",
    "from sklearn.ensemble import RandomForestRegressor, GradientBoostingRegressor\n",
    "from sklearn.metrics import mean_absolute_error, r2_score\n",
    "import warnings\n",
    "\n",
    "warnings.filterwarnings(\"ignore\")"
   ]
  },
  {
   "cell_type": "markdown",
   "id": "14226c14",
   "metadata": {},
   "source": [
    "# Load the Processed dataset"
   ]
  },
  {
   "cell_type": "code",
   "execution_count": 37,
   "id": "96d07ec2",
   "metadata": {},
   "outputs": [
    {
     "name": "stdout",
     "output_type": "stream",
     "text": [
      "Processed data and objects loaded successfully.\n",
      "DataFrame shape: (512, 18)\n",
      "Processed data loaded successfully:\n"
     ]
    },
    {
     "data": {
      "text/html": [
       "<div>\n",
       "<style scoped>\n",
       "    .dataframe tbody tr th:only-of-type {\n",
       "        vertical-align: middle;\n",
       "    }\n",
       "\n",
       "    .dataframe tbody tr th {\n",
       "        vertical-align: top;\n",
       "    }\n",
       "\n",
       "    .dataframe thead th {\n",
       "        text-align: right;\n",
       "    }\n",
       "</style>\n",
       "<table border=\"1\" class=\"dataframe\">\n",
       "  <thead>\n",
       "    <tr style=\"text-align: right;\">\n",
       "      <th></th>\n",
       "      <th>material</th>\n",
       "      <th>gLen_µm</th>\n",
       "      <th>freq_Ghz</th>\n",
       "      <th>gain_dB</th>\n",
       "      <th>noise_dB</th>\n",
       "      <th>bandwidth_GHz</th>\n",
       "      <th>lna_arch_3stage</th>\n",
       "      <th>lna_arch_3stageCS</th>\n",
       "      <th>lna_arch_4stage</th>\n",
       "      <th>lna_arch_5stage</th>\n",
       "      <th>lna_arch_6stage</th>\n",
       "      <th>lna_arch_Cascode</th>\n",
       "      <th>lna_arch_Distributed</th>\n",
       "      <th>lna_arch_Foldedcascode</th>\n",
       "      <th>lna_arch_PowerAmplifier</th>\n",
       "      <th>lna_arch_Singlestage</th>\n",
       "      <th>lna_arch_UWB</th>\n",
       "      <th>lna_arch_Unknown</th>\n",
       "    </tr>\n",
       "  </thead>\n",
       "  <tbody>\n",
       "    <tr>\n",
       "      <th>0</th>\n",
       "      <td>1</td>\n",
       "      <td>1.865969</td>\n",
       "      <td>-0.831825</td>\n",
       "      <td>12.0</td>\n",
       "      <td>1.35</td>\n",
       "      <td>-1.033797</td>\n",
       "      <td>0</td>\n",
       "      <td>0</td>\n",
       "      <td>0</td>\n",
       "      <td>0</td>\n",
       "      <td>0</td>\n",
       "      <td>0</td>\n",
       "      <td>0</td>\n",
       "      <td>1</td>\n",
       "      <td>0</td>\n",
       "      <td>0</td>\n",
       "      <td>0</td>\n",
       "      <td>0</td>\n",
       "    </tr>\n",
       "    <tr>\n",
       "      <th>1</th>\n",
       "      <td>1</td>\n",
       "      <td>-0.010261</td>\n",
       "      <td>-0.797275</td>\n",
       "      <td>17.0</td>\n",
       "      <td>1.00</td>\n",
       "      <td>-1.021621</td>\n",
       "      <td>0</td>\n",
       "      <td>0</td>\n",
       "      <td>0</td>\n",
       "      <td>0</td>\n",
       "      <td>0</td>\n",
       "      <td>0</td>\n",
       "      <td>0</td>\n",
       "      <td>0</td>\n",
       "      <td>0</td>\n",
       "      <td>0</td>\n",
       "      <td>0</td>\n",
       "      <td>1</td>\n",
       "    </tr>\n",
       "    <tr>\n",
       "      <th>2</th>\n",
       "      <td>1</td>\n",
       "      <td>-0.948376</td>\n",
       "      <td>0.977322</td>\n",
       "      <td>12.0</td>\n",
       "      <td>2.50</td>\n",
       "      <td>-0.169327</td>\n",
       "      <td>0</td>\n",
       "      <td>0</td>\n",
       "      <td>0</td>\n",
       "      <td>0</td>\n",
       "      <td>0</td>\n",
       "      <td>1</td>\n",
       "      <td>0</td>\n",
       "      <td>0</td>\n",
       "      <td>0</td>\n",
       "      <td>0</td>\n",
       "      <td>0</td>\n",
       "      <td>0</td>\n",
       "    </tr>\n",
       "    <tr>\n",
       "      <th>3</th>\n",
       "      <td>1</td>\n",
       "      <td>1.865969</td>\n",
       "      <td>-0.593118</td>\n",
       "      <td>15.2</td>\n",
       "      <td>1.80</td>\n",
       "      <td>-0.899865</td>\n",
       "      <td>0</td>\n",
       "      <td>0</td>\n",
       "      <td>0</td>\n",
       "      <td>0</td>\n",
       "      <td>0</td>\n",
       "      <td>0</td>\n",
       "      <td>0</td>\n",
       "      <td>0</td>\n",
       "      <td>0</td>\n",
       "      <td>0</td>\n",
       "      <td>0</td>\n",
       "      <td>1</td>\n",
       "    </tr>\n",
       "    <tr>\n",
       "      <th>4</th>\n",
       "      <td>1</td>\n",
       "      <td>-0.010261</td>\n",
       "      <td>2.045221</td>\n",
       "      <td>18.0</td>\n",
       "      <td>3.50</td>\n",
       "      <td>0.561211</td>\n",
       "      <td>1</td>\n",
       "      <td>0</td>\n",
       "      <td>0</td>\n",
       "      <td>0</td>\n",
       "      <td>0</td>\n",
       "      <td>0</td>\n",
       "      <td>0</td>\n",
       "      <td>0</td>\n",
       "      <td>0</td>\n",
       "      <td>0</td>\n",
       "      <td>0</td>\n",
       "      <td>0</td>\n",
       "    </tr>\n",
       "  </tbody>\n",
       "</table>\n",
       "</div>"
      ],
      "text/plain": [
       "   material   gLen_µm  freq_Ghz  gain_dB  noise_dB  bandwidth_GHz  \\\n",
       "0         1  1.865969 -0.831825     12.0      1.35      -1.033797   \n",
       "1         1 -0.010261 -0.797275     17.0      1.00      -1.021621   \n",
       "2         1 -0.948376  0.977322     12.0      2.50      -0.169327   \n",
       "3         1  1.865969 -0.593118     15.2      1.80      -0.899865   \n",
       "4         1 -0.010261  2.045221     18.0      3.50       0.561211   \n",
       "\n",
       "   lna_arch_3stage  lna_arch_3stageCS  lna_arch_4stage  lna_arch_5stage  \\\n",
       "0                0                  0                0                0   \n",
       "1                0                  0                0                0   \n",
       "2                0                  0                0                0   \n",
       "3                0                  0                0                0   \n",
       "4                1                  0                0                0   \n",
       "\n",
       "   lna_arch_6stage  lna_arch_Cascode  lna_arch_Distributed  \\\n",
       "0                0                 0                     0   \n",
       "1                0                 0                     0   \n",
       "2                0                 1                     0   \n",
       "3                0                 0                     0   \n",
       "4                0                 0                     0   \n",
       "\n",
       "   lna_arch_Foldedcascode  lna_arch_PowerAmplifier  lna_arch_Singlestage  \\\n",
       "0                       1                        0                     0   \n",
       "1                       0                        0                     0   \n",
       "2                       0                        0                     0   \n",
       "3                       0                        0                     0   \n",
       "4                       0                        0                     0   \n",
       "\n",
       "   lna_arch_UWB  lna_arch_Unknown  \n",
       "0             0                 0  \n",
       "1             0                 1  \n",
       "2             0                 0  \n",
       "3             0                 1  \n",
       "4             0                 0  "
      ]
     },
     "execution_count": 37,
     "metadata": {},
     "output_type": "execute_result"
    }
   ],
   "source": [
    "try:\n",
    "    df_model = pd.read_csv('processed_lna_dataset.csv')\n",
    "    scaler = joblib.load('scaler.pkl')\n",
    "    le_material = joblib.load('label_encoder.pkl') # Loaded the label encoder for material\n",
    "    \n",
    "    print(\"Processed data and objects loaded successfully.\")\n",
    "    print(\"DataFrame shape:\", df_model.shape)\n",
    "    \n",
    "except FileNotFoundError as e:\n",
    "    print(f\"Error loading files: {e}\")\n",
    "    print(\"Please ensure 'processed_lna_dataset.csv', 'scaler.pkl', and 'label_encoder.pkl' are in the same directory.\")\n",
    "\n",
    "# Display the first few rows to make sure it loaded correctly\n",
    "print(\"Processed data loaded successfully:\")\n",
    "df_model.head()"
   ]
  },
  {
   "cell_type": "markdown",
   "id": "94229eaf",
   "metadata": {},
   "source": [
    "# Setting Up Data"
   ]
  },
  {
   "cell_type": "markdown",
   "id": "11744b4c",
   "metadata": {},
   "source": [
    "## Define the features and target variable"
   ]
  },
  {
   "cell_type": "code",
   "execution_count": 38,
   "id": "38cbd327",
   "metadata": {},
   "outputs": [
    {
     "name": "stdout",
     "output_type": "stream",
     "text": [
      "Features (X) and Targets (y_noise, y_gain) have been defined.\n",
      "Shape of feature matrix X: (512, 16)\n",
      "Shape of noise target y: (512,)\n",
      "Shape of gain target y: (512,)\n"
     ]
    }
   ],
   "source": [
    "# Our two target variables\n",
    "y_noise = df_model['noise_dB']\n",
    "y_gain = df_model['gain_dB']\n",
    "\n",
    "# Our features are all columns EXCEPT for the two target variables\n",
    "X = df_model.drop(['noise_dB', 'gain_dB'], axis=1)\n",
    "\n",
    "# We also need the feature names for our final prediction function\n",
    "feature_columns = X.columns.tolist()\n",
    "\n",
    "print(\"Features (X) and Targets (y_noise, y_gain) have been defined.\")\n",
    "print(\"Shape of feature matrix X:\", X.shape)\n",
    "print(\"Shape of noise target y:\", y_noise.shape)\n",
    "print(\"Shape of gain target y:\", y_gain.shape)"
   ]
  },
  {
   "cell_type": "markdown",
   "id": "ce4503ca",
   "metadata": {},
   "source": [
    "## Split the Data into Training and Testing Sets"
   ]
  },
  {
   "cell_type": "code",
   "execution_count": 39,
   "id": "8f6aa504",
   "metadata": {},
   "outputs": [
    {
     "name": "stdout",
     "output_type": "stream",
     "text": [
      "Data has been split into training and testing sets.\n",
      "X_train shape: (409, 16)\n",
      "X_test shape: (103, 16)\n"
     ]
    }
   ],
   "source": [
    "# We use one split to ensure all models are compared on the exact same data\n",
    "\n",
    "X_train, X_test, y_noise_train, y_noise_test, y_gain_train, y_gain_test = train_test_split(\n",
    "    X, \n",
    "    y_noise, \n",
    "    y_gain, \n",
    "    test_size=0.2,  # Use 20% of the data for testing\n",
    "    random_state=42 # Ensures the split is the same every time\n",
    ")\n",
    "\n",
    "print(\"Data has been split into training and testing sets.\")\n",
    "print(\"X_train shape:\", X_train.shape)\n",
    "print(\"X_test shape:\", X_test.shape)"
   ]
  },
  {
   "cell_type": "markdown",
   "id": "a258f4e1",
   "metadata": {},
   "source": [
    "# Train and Evaluate the Three Models"
   ]
  },
  {
   "cell_type": "markdown",
   "id": "1928e821",
   "metadata": {},
   "source": [
    "## Imports"
   ]
  },
  {
   "cell_type": "code",
   "execution_count": 40,
   "id": "8ec47726",
   "metadata": {},
   "outputs": [],
   "source": [
    "from sklearn.linear_model import LinearRegression\n",
    "from sklearn.ensemble import RandomForestRegressor, GradientBoostingRegressor\n",
    "\n",
    "# Dictionary to store model performance\n",
    "model_scores = {}"
   ]
  },
  {
   "cell_type": "markdown",
   "id": "dc1b2184",
   "metadata": {},
   "source": [
    "## Model 1: Linear Regression"
   ]
  },
  {
   "cell_type": "code",
   "execution_count": 41,
   "id": "045be0a1",
   "metadata": {},
   "outputs": [
    {
     "name": "stdout",
     "output_type": "stream",
     "text": [
      "Training Linear Regression models...\n",
      "Training complete.\n",
      "\n",
      "--- Linear Regression Performance ---\n",
      "Noise Model MAE: 0.4141 dB\n",
      "Noise Model R²:  0.8288\n",
      "-----------------------------------\n",
      "Gain Model MAE:  2.7693 dB\n",
      "Gain Model R²:   0.3945\n"
     ]
    }
   ],
   "source": [
    "# Initialize the Linear Regression models\n",
    "lr_model_noise = LinearRegression()\n",
    "lr_model_gain = LinearRegression()\n",
    "\n",
    "# Train the models on the training data\n",
    "print(\"Training Linear Regression models...\")\n",
    "lr_model_noise.fit(X_train, y_noise_train)\n",
    "lr_model_gain.fit(X_train, y_gain_train)\n",
    "print(\"Training complete.\")\n",
    "\n",
    "# --- Evaluate the models on the test data ---\n",
    "y_noise_pred_lr = lr_model_noise.predict(X_test)\n",
    "y_gain_pred_lr = lr_model_gain.predict(X_test)\n",
    "\n",
    "# Calculate and store the performance metrics\n",
    "lr_noise_mae = mean_absolute_error(y_noise_test, y_noise_pred_lr)\n",
    "lr_noise_r2 = r2_score(y_noise_test, y_noise_pred_lr)\n",
    "lr_gain_mae = mean_absolute_error(y_gain_test, y_gain_pred_lr)\n",
    "lr_gain_r2 = r2_score(y_gain_test, y_gain_pred_lr)\n",
    "\n",
    "model_scores['Linear Regression'] = {\n",
    "    'Noise MAE': lr_noise_mae,\n",
    "    'Noise R²': lr_noise_r2,\n",
    "    'Gain MAE': lr_gain_mae,\n",
    "    'Gain R²': lr_gain_r2\n",
    "}\n",
    "\n",
    "# --- Display the results for this model ---\n",
    "print(\"\\n--- Linear Regression Performance ---\")\n",
    "print(f\"Noise Model MAE: {lr_noise_mae:.4f} dB\")\n",
    "print(f\"Noise Model R²:  {lr_noise_r2:.4f}\")\n",
    "print(\"-----------------------------------\")\n",
    "print(f\"Gain Model MAE:  {lr_gain_mae:.4f} dB\")\n",
    "print(f\"Gain Model R²:   {lr_gain_r2:.4f}\")"
   ]
  },
  {
   "cell_type": "markdown",
   "id": "65247868",
   "metadata": {},
   "source": [
    "## Model 2: Random Forest"
   ]
  },
  {
   "cell_type": "code",
   "execution_count": 42,
   "id": "fc4f9059",
   "metadata": {},
   "outputs": [
    {
     "name": "stdout",
     "output_type": "stream",
     "text": [
      "Training Random Forest models...\n",
      "Training complete.\n",
      "\n",
      "--- Random Forest Performance ---\n",
      "Noise Model MAE: 0.3811 dB\n",
      "Noise Model R²:  0.8359\n",
      "---------------------------------\n",
      "Gain Model MAE:  2.2727 dB\n",
      "Gain Model R²:   0.5837\n"
     ]
    }
   ],
   "source": [
    "# Initialize the Random Forest models\n",
    "# n_estimators=100 means it will build 100 decision trees\n",
    "rf_model_noise = RandomForestRegressor(n_estimators=100, random_state=42)\n",
    "rf_model_gain = RandomForestRegressor(n_estimators=100, random_state=42)\n",
    "\n",
    "# Train the models on the same training data\n",
    "print(\"Training Random Forest models...\")\n",
    "rf_model_noise.fit(X_train, y_noise_train)\n",
    "rf_model_gain.fit(X_train, y_gain_train)\n",
    "print(\"Training complete.\")\n",
    "\n",
    "# --- Evaluate the models on the test data ---\n",
    "y_noise_pred_rf = rf_model_noise.predict(X_test)\n",
    "y_gain_pred_rf = rf_model_gain.predict(X_test)\n",
    "\n",
    "# Calculate and store the performance metrics\n",
    "rf_noise_mae = mean_absolute_error(y_noise_test, y_noise_pred_rf)\n",
    "rf_noise_r2 = r2_score(y_noise_test, y_noise_pred_rf)\n",
    "rf_gain_mae = mean_absolute_error(y_gain_test, y_gain_pred_rf)\n",
    "rf_gain_r2 = r2_score(y_gain_test, y_gain_pred_rf)\n",
    "\n",
    "model_scores['Random Forest'] = {\n",
    "    'Noise MAE': rf_noise_mae,\n",
    "    'Noise R²': rf_noise_r2,\n",
    "    'Gain MAE': rf_gain_mae,\n",
    "    'Gain R²': rf_gain_r2\n",
    "}\n",
    "\n",
    "# --- Display the results for this model ---\n",
    "print(\"\\n--- Random Forest Performance ---\")\n",
    "print(f\"Noise Model MAE: {rf_noise_mae:.4f} dB\")\n",
    "print(f\"Noise Model R²:  {rf_noise_r2:.4f}\")\n",
    "print(\"---------------------------------\")\n",
    "print(f\"Gain Model MAE:  {rf_gain_mae:.4f} dB\")\n",
    "print(f\"Gain Model R²:   {rf_gain_r2:.4f}\")"
   ]
  },
  {
   "cell_type": "markdown",
   "id": "83c14103",
   "metadata": {},
   "source": [
    "## Model 3: Gradient Boosting"
   ]
  },
  {
   "cell_type": "code",
   "execution_count": 43,
   "id": "13c31efc",
   "metadata": {},
   "outputs": [
    {
     "name": "stdout",
     "output_type": "stream",
     "text": [
      "Training Gradient Boosting models...\n",
      "Training complete.\n",
      "\n",
      "--- Gradient Boosting Performance ---\n",
      "Noise Model MAE: 0.3348 dB\n",
      "Noise Model R²:  0.8783\n",
      "-------------------------------------\n",
      "Gain Model MAE:  2.2761 dB\n",
      "Gain Model R²:   0.6092\n"
     ]
    }
   ],
   "source": [
    "# Initialize the Gradient Boosting models\n",
    "gb_model_noise = GradientBoostingRegressor(n_estimators=100, random_state=42)\n",
    "gb_model_gain = GradientBoostingRegressor(n_estimators=100, random_state=42)\n",
    "\n",
    "# Train the models on the same training data\n",
    "print(\"Training Gradient Boosting models...\")\n",
    "gb_model_noise.fit(X_train, y_noise_train)\n",
    "gb_model_gain.fit(X_train, y_gain_train)\n",
    "print(\"Training complete.\")\n",
    "\n",
    "# --- Evaluate the models on the test data ---\n",
    "y_noise_pred_gb = gb_model_noise.predict(X_test)\n",
    "y_gain_pred_gb = gb_model_gain.predict(X_test)\n",
    "\n",
    "# Calculate and store the performance metrics\n",
    "gb_noise_mae = mean_absolute_error(y_noise_test, y_noise_pred_gb)\n",
    "gb_noise_r2 = r2_score(y_noise_test, y_noise_pred_gb)\n",
    "gb_gain_mae = mean_absolute_error(y_gain_test, y_gain_pred_gb)\n",
    "gb_gain_r2 = r2_score(y_gain_test, y_gain_pred_gb)\n",
    "\n",
    "model_scores['Gradient Boosting'] = {\n",
    "    'Noise MAE': gb_noise_mae,\n",
    "    'Noise R²': gb_noise_r2,\n",
    "    'Gain MAE': gb_gain_mae,\n",
    "    'Gain R²': gb_gain_r2\n",
    "}\n",
    "\n",
    "# --- Display the results for this model ---\n",
    "print(\"\\n--- Gradient Boosting Performance ---\")\n",
    "print(f\"Noise Model MAE: {gb_noise_mae:.4f} dB\")\n",
    "print(f\"Noise Model R²:  {gb_noise_r2:.4f}\")\n",
    "print(\"-------------------------------------\")\n",
    "print(f\"Gain Model MAE:  {gb_gain_mae:.4f} dB\")\n",
    "print(f\"Gain Model R²:   {gb_gain_r2:.4f}\")"
   ]
  },
  {
   "cell_type": "markdown",
   "id": "7561fbc8",
   "metadata": {},
   "source": [
    "# Comparing Models to select the Best"
   ]
  },
  {
   "cell_type": "code",
   "execution_count": 44,
   "id": "2dcb6655",
   "metadata": {},
   "outputs": [
    {
     "name": "stdout",
     "output_type": "stream",
     "text": [
      "\n",
      "--- Model Performance Comparison ---\n",
      "                   Noise MAE  Noise R²  Gain MAE   Gain R²\n",
      "Linear Regression   0.414067  0.828830  2.769330  0.394502\n",
      "Random Forest       0.381149  0.835903  2.272682  0.583702\n",
      "Gradient Boosting   0.334782  0.878266  2.276097  0.609208\n"
     ]
    }
   ],
   "source": [
    "# Create a DataFrame from the scores dictionary\n",
    "performance_df = pd.DataFrame(model_scores).T # .T transposes the DataFrame for better readability\n",
    "\n",
    "print(\"\\n--- Model Performance Comparison ---\")\n",
    "print(performance_df)"
   ]
  },
  {
   "cell_type": "markdown",
   "id": "f83073ef",
   "metadata": {},
   "source": [
    "# Saving the best model"
   ]
  },
  {
   "cell_type": "code",
   "execution_count": 45,
   "id": "a6cacbd2",
   "metadata": {},
   "outputs": [
    {
     "name": "stdout",
     "output_type": "stream",
     "text": [
      "Champion models have been saved to .pkl files.\n"
     ]
    }
   ],
   "source": [
    "import joblib\n",
    "\n",
    "# --- Save the best models (Gradient Boosting) ---\n",
    "joblib.dump(gb_model_noise, 'gb_model_noise.pkl')\n",
    "joblib.dump(gb_model_gain, 'gb_model_gain.pkl')\n",
    "\n",
    "print(\"Champion models have been saved to .pkl files.\")"
   ]
  }
 ],
 "metadata": {
  "kernelspec": {
   "display_name": "venv",
   "language": "python",
   "name": "python3"
  },
  "language_info": {
   "codemirror_mode": {
    "name": "ipython",
    "version": 3
   },
   "file_extension": ".py",
   "mimetype": "text/x-python",
   "name": "python",
   "nbconvert_exporter": "python",
   "pygments_lexer": "ipython3",
   "version": "3.11.1"
  }
 },
 "nbformat": 4,
 "nbformat_minor": 5
}
